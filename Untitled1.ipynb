{
 "cells": [
  {
   "cell_type": "code",
   "execution_count": 1,
   "metadata": {},
   "outputs": [
    {
     "name": "stdout",
     "output_type": "stream",
     "text": [
      "{'without_mask': 0, 'with_mask': 1}\n",
      "['without_mask', 'with_mask']\n",
      "[0, 1]\n"
     ]
    }
   ],
   "source": [
    "import cv2,os\n",
    "\n",
    "data_path='dataset'\n",
    "categories=os.listdir(data_path)\n",
    "labels=[i for i in range(len(categories))]\n",
    "\n",
    "label_dict=dict(zip(categories,labels))\n",
    "\n",
    "print(label_dict)\n",
    "print(categories)\n",
    "print(labels)"
   ]
  },
  {
   "cell_type": "code",
   "execution_count": 2,
   "metadata": {},
   "outputs": [],
   "source": [
    "img_size=100\n",
    "data=[]\n",
    "target=[]\n",
    "\n",
    "\n",
    "for category in categories:\n",
    "    folder_path=os.path.join(data_path,category)\n",
    "    img_names=os.listdir(folder_path)\n",
    "        \n",
    "    for img_name in img_names:\n",
    "        img_path=os.path.join(folder_path,img_name)\n",
    "        img=cv2.imread(img_path)\n",
    "\n",
    "        try:\n",
    "            gray=cv2.cvtColor(img,cv2.COLOR_BGR2GRAY)           \n",
    "            #Coverting the image into gray scale\n",
    "            resized=cv2.resize(gray,(img_size,img_size))\n",
    "            #resizing the gray scale into 100x100, since we need a fixed common size for all the images in the dataset\n",
    "            data.append(resized)\n",
    "            target.append(label_dict[category])\n",
    "            #appending the image and the label(categorized) into the list (dataset)\n",
    "\n",
    "        except Exception as e:\n",
    "            print('Exception:',e)"
   ]
  },
  {
   "cell_type": "code",
   "execution_count": 3,
   "metadata": {},
   "outputs": [
    {
     "name": "stderr",
     "output_type": "stream",
     "text": [
      "Using TensorFlow backend.\n"
     ]
    }
   ],
   "source": [
    "import numpy as np\n",
    "\n",
    "data=np.array(data)/255.0\n",
    "data=np.reshape(data,(data.shape[0],img_size,img_size,1))\n",
    "target=np.array(target)\n",
    "\n",
    "from keras.utils import np_utils\n",
    "\n",
    "new_target=np_utils.to_categorical(target)"
   ]
  },
  {
   "cell_type": "code",
   "execution_count": 4,
   "metadata": {},
   "outputs": [],
   "source": [
    "np.save('data',data)\n",
    "np.save('target',new_target)"
   ]
  },
  {
   "cell_type": "markdown",
   "metadata": {},
   "source": [
    "# CONVOLUTIONAL NEURAL NETWORK"
   ]
  },
  {
   "cell_type": "code",
   "execution_count": 5,
   "metadata": {},
   "outputs": [],
   "source": [
    "import tensorflow as tf\n",
    "from keras.preprocessing.image import ImageDataGenerator"
   ]
  },
  {
   "cell_type": "code",
   "execution_count": 6,
   "metadata": {},
   "outputs": [
    {
     "name": "stdout",
     "output_type": "stream",
     "text": [
      "Found 1315 images belonging to 2 classes.\n"
     ]
    }
   ],
   "source": [
    "train_datagen = ImageDataGenerator(rescale = 1./255,\n",
    "                                   shear_range = 0.2,\n",
    "                                   zoom_range = 0.2,\n",
    "                                   horizontal_flip = True)\n",
    "training_set = train_datagen.flow_from_directory('dataset',\n",
    "                                                 target_size = (64, 64),\n",
    "                                                 batch_size = 32,\n",
    "                                                 class_mode = 'binary')"
   ]
  },
  {
   "cell_type": "code",
   "execution_count": 7,
   "metadata": {},
   "outputs": [
    {
     "name": "stdout",
     "output_type": "stream",
     "text": [
      "Found 1315 images belonging to 2 classes.\n"
     ]
    }
   ],
   "source": [
    "test_datagen = ImageDataGenerator(rescale = 1./255)\n",
    "test_set = test_datagen.flow_from_directory('dataset',\n",
    "                                            target_size = (64, 64),\n",
    "                                            batch_size = 32,\n",
    "                                            class_mode = 'binary')"
   ]
  },
  {
   "cell_type": "code",
   "execution_count": 8,
   "metadata": {},
   "outputs": [],
   "source": [
    "import numpy as np\n",
    "\n",
    "data=np.load('data.npy')\n",
    "target=np.load('target.npy')\n"
   ]
  },
  {
   "cell_type": "code",
   "execution_count": 9,
   "metadata": {},
   "outputs": [],
   "source": [
    "model = tf.keras.models.Sequential()\n",
    "model.add(tf.keras.layers.Conv2D(filters=32, kernel_size=3, activation='relu', input_shape=[64, 64, 3]))\n",
    "model.add(tf.keras.layers.MaxPool2D(pool_size=2, strides=2))\n",
    "model.add(tf.keras.layers.Conv2D(filters=32, kernel_size=3, activation='relu'))\n",
    "model.add(tf.keras.layers.MaxPool2D(pool_size=2, strides=2))\n",
    "model.add(tf.keras.layers.Flatten())\n",
    "model.add(tf.keras.layers.Dense(units=128, activation='relu'))\n",
    "model.add(tf.keras.layers.Dense(units=1, activation='sigmoid'))\n",
    "model.compile(optimizer = 'adam', loss = 'binary_crossentropy', metrics = ['accuracy'])"
   ]
  },
  {
   "cell_type": "code",
   "execution_count": 10,
   "metadata": {},
   "outputs": [],
   "source": [
    "from sklearn.model_selection import train_test_split\n",
    "\n",
    "train_data,test_data,train_target,test_target=train_test_split(data,target,test_size=0.1)"
   ]
  },
  {
   "cell_type": "code",
   "execution_count": 11,
   "metadata": {
    "scrolled": true
   },
   "outputs": [
    {
     "name": "stdout",
     "output_type": "stream",
     "text": [
      "WARNING:tensorflow:sample_weight modes were coerced from\n",
      "  ...\n",
      "    to  \n",
      "  ['...']\n",
      "WARNING:tensorflow:sample_weight modes were coerced from\n",
      "  ...\n",
      "    to  \n",
      "  ['...']\n",
      "Train for 42 steps, validate for 42 steps\n",
      "Epoch 1/25\n",
      "42/42 [==============================] - 32s 758ms/step - loss: 0.3464 - accuracy: 0.8646 - val_loss: 0.2105 - val_accuracy: 0.9163\n",
      "Epoch 2/25\n",
      "42/42 [==============================] - 21s 489ms/step - loss: 0.1442 - accuracy: 0.9445 - val_loss: 0.1273 - val_accuracy: 0.9559\n",
      "Epoch 3/25\n",
      "42/42 [==============================] - 19s 454ms/step - loss: 0.1106 - accuracy: 0.9612 - val_loss: 0.1458 - val_accuracy: 0.9407\n",
      "Epoch 4/25\n",
      "42/42 [==============================] - 19s 456ms/step - loss: 0.1017 - accuracy: 0.9627 - val_loss: 0.0714 - val_accuracy: 0.9726\n",
      "Epoch 5/25\n",
      "42/42 [==============================] - 28s 662ms/step - loss: 0.0833 - accuracy: 0.9726 - val_loss: 0.1011 - val_accuracy: 0.9627\n",
      "Epoch 6/25\n",
      "42/42 [==============================] - 30s 717ms/step - loss: 0.1166 - accuracy: 0.9627 - val_loss: 0.0571 - val_accuracy: 0.9795\n",
      "Epoch 7/25\n",
      "42/42 [==============================] - 29s 693ms/step - loss: 0.0578 - accuracy: 0.9787 - val_loss: 0.0781 - val_accuracy: 0.9757\n",
      "Epoch 8/25\n",
      "42/42 [==============================] - 21s 507ms/step - loss: 0.0520 - accuracy: 0.9802 - val_loss: 0.0267 - val_accuracy: 0.9894\n",
      "Epoch 9/25\n",
      "42/42 [==============================] - 16s 376ms/step - loss: 0.0767 - accuracy: 0.9696 - val_loss: 0.0434 - val_accuracy: 0.9863\n",
      "Epoch 10/25\n",
      "42/42 [==============================] - 15s 362ms/step - loss: 0.0580 - accuracy: 0.9802 - val_loss: 0.0281 - val_accuracy: 0.9909\n",
      "Epoch 11/25\n",
      "42/42 [==============================] - 16s 373ms/step - loss: 0.0412 - accuracy: 0.9863 - val_loss: 0.0266 - val_accuracy: 0.9932\n",
      "Epoch 12/25\n",
      "42/42 [==============================] - 15s 365ms/step - loss: 0.0440 - accuracy: 0.9833 - val_loss: 0.0443 - val_accuracy: 0.9810\n",
      "Epoch 13/25\n",
      "42/42 [==============================] - 16s 373ms/step - loss: 0.0494 - accuracy: 0.9802 - val_loss: 0.0162 - val_accuracy: 0.9932\n",
      "Epoch 14/25\n",
      "42/42 [==============================] - 15s 362ms/step - loss: 0.0314 - accuracy: 0.9886 - val_loss: 0.0270 - val_accuracy: 0.9916\n",
      "Epoch 15/25\n",
      "42/42 [==============================] - 15s 359ms/step - loss: 0.0237 - accuracy: 0.9924 - val_loss: 0.0101 - val_accuracy: 0.9985\n",
      "Epoch 16/25\n",
      "42/42 [==============================] - 15s 361ms/step - loss: 0.0203 - accuracy: 0.9932 - val_loss: 0.0178 - val_accuracy: 0.9932\n",
      "Epoch 17/25\n",
      "42/42 [==============================] - 15s 362ms/step - loss: 0.0340 - accuracy: 0.9894 - val_loss: 0.0103 - val_accuracy: 0.9962\n",
      "Epoch 18/25\n",
      "42/42 [==============================] - 15s 358ms/step - loss: 0.0183 - accuracy: 0.9924 - val_loss: 0.0104 - val_accuracy: 0.9962\n",
      "Epoch 19/25\n",
      "42/42 [==============================] - 16s 372ms/step - loss: 0.0167 - accuracy: 0.9947 - val_loss: 0.0085 - val_accuracy: 0.9970\n",
      "Epoch 20/25\n",
      "42/42 [==============================] - 15s 358ms/step - loss: 0.0400 - accuracy: 0.9871 - val_loss: 0.0332 - val_accuracy: 0.9886\n",
      "Epoch 21/25\n",
      "42/42 [==============================] - 15s 361ms/step - loss: 0.0427 - accuracy: 0.9840 - val_loss: 0.0090 - val_accuracy: 0.9985\n",
      "Epoch 22/25\n",
      "42/42 [==============================] - 16s 370ms/step - loss: 0.0196 - accuracy: 0.9932 - val_loss: 0.0266 - val_accuracy: 0.9916\n",
      "Epoch 23/25\n",
      "42/42 [==============================] - 15s 362ms/step - loss: 0.0360 - accuracy: 0.9863 - val_loss: 0.0640 - val_accuracy: 0.9696\n",
      "Epoch 24/25\n",
      "42/42 [==============================] - 15s 359ms/step - loss: 0.0417 - accuracy: 0.9840 - val_loss: 0.0097 - val_accuracy: 0.9985\n",
      "Epoch 25/25\n",
      "42/42 [==============================] - 15s 363ms/step - loss: 0.0185 - accuracy: 0.9916 - val_loss: 0.0060 - val_accuracy: 0.9992\n"
     ]
    }
   ],
   "source": [
    "from keras.callbacks import ModelCheckpoint\n",
    "checkpoint = ModelCheckpoint('model-{epoch:03d}.model',monitor='val_loss',verbose=0,save_best_only=True,mode='auto')\n",
    "history=model.fit(x = training_set, validation_data = test_set,epochs = 25 )"
   ]
  },
  {
   "cell_type": "code",
   "execution_count": null,
   "metadata": {},
   "outputs": [],
   "source": [
    "from matplotlib import pyplot as plt\n",
    "\n",
    "plt.plot(history.history['loss'],'r',label='training loss')\n",
    "plt.plot(history.history['val_loss'],label='validation loss')\n",
    "plt.xlabel('# epochs')\n",
    "plt.ylabel('loss')\n",
    "plt.legend()\n",
    "plt.show()\n"
   ]
  },
  {
   "cell_type": "code",
   "execution_count": null,
   "metadata": {},
   "outputs": [],
   "source": [
    "\n",
    "plt.plot(history.history['accuracy'],'r',label='training accuracy')\n",
    "plt.plot(history.history['val_accuracy'],label='validation accuracy')\n",
    "plt.xlabel('# epochs')\n",
    "plt.ylabel('loss')\n",
    "plt.legend()\n",
    "plt.show()"
   ]
  },
  {
   "cell_type": "markdown",
   "metadata": {},
   "source": [
    "MASK DETECTION ALGO"
   ]
  },
  {
   "cell_type": "code",
   "execution_count": null,
   "metadata": {},
   "outputs": [],
   "source": [
    "#print(model.evaluate(test_data,test_target))"
   ]
  },
  {
   "cell_type": "code",
   "execution_count": 12,
   "metadata": {},
   "outputs": [],
   "source": [
    "from keras.models import load_model\n",
    "import cv2\n",
    "import numpy as np"
   ]
  },
  {
   "cell_type": "code",
   "execution_count": 15,
   "metadata": {},
   "outputs": [],
   "source": [
    "model = load_model('model-017.model')\n",
    "\n",
    "face_clsfr=cv2.CascadeClassifier('haarcascade_frontalface_default.xml')\n",
    "\n",
    "source=cv2.VideoCapture(0)\n",
    "\n",
    "labels_dict={0:'MASK',1:'NO MASK'}\n",
    "color_dict={0:(0,255,0),1:(0,0,255)}"
   ]
  },
  {
   "cell_type": "code",
   "execution_count": 16,
   "metadata": {},
   "outputs": [],
   "source": [
    "while(True):\n",
    "\n",
    "    ret,img=source.read()\n",
    "    gray=cv2.cvtColor(img,cv2.COLOR_BGR2GRAY)\n",
    "    faces=face_clsfr.detectMultiScale(gray,1.3,5)  \n",
    "\n",
    "    for x,y,w,h in faces:\n",
    "    \n",
    "        face_img=gray[y:y+w,x:x+w]\n",
    "        resized=cv2.resize(face_img,(100,100))\n",
    "        normalized=resized/255.0\n",
    "        reshaped=np.reshape(normalized,(1,100,100,1))\n",
    "        result=model.predict(reshaped)\n",
    "\n",
    "        label=np.argmax(result,axis=1)[0]\n",
    "      \n",
    "        cv2.rectangle(img,(x,y),(x+w,y+h),color_dict[label],2)\n",
    "        cv2.rectangle(img,(x,y-40),(x+w,y),color_dict[label],-1)\n",
    "        cv2.putText(img, labels_dict[label], (x, y-10),cv2.FONT_HERSHEY_SIMPLEX,0.8,(255,255,255),2)\n",
    "        \n",
    "        \n",
    "    cv2.imshow('TESTING',img)\n",
    "    key=cv2.waitKey(1)\n",
    "    \n",
    "    if(key==27):\n",
    "        break\n",
    "        \n",
    "cv2.destroyAllWindows()\n",
    "source.release()"
   ]
  },
  {
   "cell_type": "code",
   "execution_count": null,
   "metadata": {},
   "outputs": [],
   "source": []
  }
 ],
 "metadata": {
  "kernelspec": {
   "display_name": "Python 3",
   "language": "python",
   "name": "python3"
  },
  "language_info": {
   "codemirror_mode": {
    "name": "ipython",
    "version": 3
   },
   "file_extension": ".py",
   "mimetype": "text/x-python",
   "name": "python",
   "nbconvert_exporter": "python",
   "pygments_lexer": "ipython3",
   "version": "3.7.9"
  }
 },
 "nbformat": 4,
 "nbformat_minor": 4
}
